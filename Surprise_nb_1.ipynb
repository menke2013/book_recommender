{
 "cells": [
  {
   "cell_type": "code",
   "execution_count": 127,
   "id": "2e2225bd",
   "metadata": {},
   "outputs": [],
   "source": [
    "import numpy as np\n",
    "import pandas as pd\n",
    "import surprise as surp\n",
    "from collections import defaultdict"
   ]
  },
  {
   "cell_type": "code",
   "execution_count": 4,
   "id": "7da1e360",
   "metadata": {},
   "outputs": [],
   "source": [
    "pd.set_option('display.max_rows', 150)\n",
    "pd.set_option('display.max_columns', 100)\n",
    "#pd.set_option('display.max_colwidth', None)\n",
    "pd.set_option('display.float_format', lambda x: '%.2f' % x)"
   ]
  },
  {
   "cell_type": "markdown",
   "id": "07b60c6b",
   "metadata": {},
   "source": [
    "# Taking a look at our user rating database"
   ]
  },
  {
   "cell_type": "code",
   "execution_count": 5,
   "id": "270272ec",
   "metadata": {},
   "outputs": [],
   "source": [
    "df_user_rating = pd.read_csv('ratings.csv')"
   ]
  },
  {
   "cell_type": "code",
   "execution_count": 13,
   "id": "424763c5",
   "metadata": {},
   "outputs": [
    {
     "data": {
      "text/html": [
       "<div>\n",
       "<style scoped>\n",
       "    .dataframe tbody tr th:only-of-type {\n",
       "        vertical-align: middle;\n",
       "    }\n",
       "\n",
       "    .dataframe tbody tr th {\n",
       "        vertical-align: top;\n",
       "    }\n",
       "\n",
       "    .dataframe thead th {\n",
       "        text-align: right;\n",
       "    }\n",
       "</style>\n",
       "<table border=\"1\" class=\"dataframe\">\n",
       "  <thead>\n",
       "    <tr style=\"text-align: right;\">\n",
       "      <th></th>\n",
       "      <th>user_id</th>\n",
       "      <th>book_id</th>\n",
       "      <th>rating</th>\n",
       "    </tr>\n",
       "  </thead>\n",
       "  <tbody>\n",
       "    <tr>\n",
       "      <th>0</th>\n",
       "      <td>1</td>\n",
       "      <td>258</td>\n",
       "      <td>5</td>\n",
       "    </tr>\n",
       "    <tr>\n",
       "      <th>1</th>\n",
       "      <td>2</td>\n",
       "      <td>4081</td>\n",
       "      <td>4</td>\n",
       "    </tr>\n",
       "    <tr>\n",
       "      <th>2</th>\n",
       "      <td>2</td>\n",
       "      <td>260</td>\n",
       "      <td>5</td>\n",
       "    </tr>\n",
       "    <tr>\n",
       "      <th>3</th>\n",
       "      <td>2</td>\n",
       "      <td>9296</td>\n",
       "      <td>5</td>\n",
       "    </tr>\n",
       "    <tr>\n",
       "      <th>4</th>\n",
       "      <td>2</td>\n",
       "      <td>2318</td>\n",
       "      <td>3</td>\n",
       "    </tr>\n",
       "    <tr>\n",
       "      <th>5</th>\n",
       "      <td>2</td>\n",
       "      <td>26</td>\n",
       "      <td>4</td>\n",
       "    </tr>\n",
       "    <tr>\n",
       "      <th>6</th>\n",
       "      <td>2</td>\n",
       "      <td>315</td>\n",
       "      <td>3</td>\n",
       "    </tr>\n",
       "    <tr>\n",
       "      <th>7</th>\n",
       "      <td>2</td>\n",
       "      <td>33</td>\n",
       "      <td>4</td>\n",
       "    </tr>\n",
       "    <tr>\n",
       "      <th>8</th>\n",
       "      <td>2</td>\n",
       "      <td>301</td>\n",
       "      <td>5</td>\n",
       "    </tr>\n",
       "    <tr>\n",
       "      <th>9</th>\n",
       "      <td>2</td>\n",
       "      <td>2686</td>\n",
       "      <td>5</td>\n",
       "    </tr>\n",
       "  </tbody>\n",
       "</table>\n",
       "</div>"
      ],
      "text/plain": [
       "   user_id  book_id  rating\n",
       "0        1      258       5\n",
       "1        2     4081       4\n",
       "2        2      260       5\n",
       "3        2     9296       5\n",
       "4        2     2318       3\n",
       "5        2       26       4\n",
       "6        2      315       3\n",
       "7        2       33       4\n",
       "8        2      301       5\n",
       "9        2     2686       5"
      ]
     },
     "execution_count": 13,
     "metadata": {},
     "output_type": "execute_result"
    }
   ],
   "source": [
    "df_user_rating.head(10)"
   ]
  },
  {
   "cell_type": "code",
   "execution_count": 18,
   "id": "17be6515",
   "metadata": {},
   "outputs": [
    {
     "data": {
      "text/plain": [
       "(5976479, 3)"
      ]
     },
     "execution_count": 18,
     "metadata": {},
     "output_type": "execute_result"
    }
   ],
   "source": [
    "df_user_rating.shape"
   ]
  },
  {
   "cell_type": "code",
   "execution_count": 19,
   "id": "5d0da496",
   "metadata": {},
   "outputs": [
    {
     "data": {
      "text/plain": [
       "53424"
      ]
     },
     "execution_count": 19,
     "metadata": {},
     "output_type": "execute_result"
    }
   ],
   "source": [
    "df_user_rating.user_id.nunique()"
   ]
  },
  {
   "cell_type": "code",
   "execution_count": 20,
   "id": "cc496565",
   "metadata": {},
   "outputs": [
    {
     "data": {
      "text/plain": [
       "10000"
      ]
     },
     "execution_count": 20,
     "metadata": {},
     "output_type": "execute_result"
    }
   ],
   "source": [
    "df_user_rating.book_id.nunique()"
   ]
  },
  {
   "cell_type": "code",
   "execution_count": 10,
   "id": "4d562b26",
   "metadata": {},
   "outputs": [
    {
     "data": {
      "text/html": [
       "<div>\n",
       "<style scoped>\n",
       "    .dataframe tbody tr th:only-of-type {\n",
       "        vertical-align: middle;\n",
       "    }\n",
       "\n",
       "    .dataframe tbody tr th {\n",
       "        vertical-align: top;\n",
       "    }\n",
       "\n",
       "    .dataframe thead th {\n",
       "        text-align: right;\n",
       "    }\n",
       "</style>\n",
       "<table border=\"1\" class=\"dataframe\">\n",
       "  <thead>\n",
       "    <tr style=\"text-align: right;\">\n",
       "      <th></th>\n",
       "      <th>user_id</th>\n",
       "      <th>book_id</th>\n",
       "      <th>rating</th>\n",
       "    </tr>\n",
       "  </thead>\n",
       "  <tbody>\n",
       "    <tr>\n",
       "      <th>count</th>\n",
       "      <td>5976479.00</td>\n",
       "      <td>5976479.00</td>\n",
       "      <td>5976479.00</td>\n",
       "    </tr>\n",
       "    <tr>\n",
       "      <th>mean</th>\n",
       "      <td>26224.46</td>\n",
       "      <td>2006.48</td>\n",
       "      <td>3.92</td>\n",
       "    </tr>\n",
       "    <tr>\n",
       "      <th>std</th>\n",
       "      <td>15413.23</td>\n",
       "      <td>2468.50</td>\n",
       "      <td>0.99</td>\n",
       "    </tr>\n",
       "    <tr>\n",
       "      <th>min</th>\n",
       "      <td>1.00</td>\n",
       "      <td>1.00</td>\n",
       "      <td>1.00</td>\n",
       "    </tr>\n",
       "    <tr>\n",
       "      <th>25%</th>\n",
       "      <td>12813.00</td>\n",
       "      <td>198.00</td>\n",
       "      <td>3.00</td>\n",
       "    </tr>\n",
       "    <tr>\n",
       "      <th>50%</th>\n",
       "      <td>25938.00</td>\n",
       "      <td>885.00</td>\n",
       "      <td>4.00</td>\n",
       "    </tr>\n",
       "    <tr>\n",
       "      <th>75%</th>\n",
       "      <td>39509.00</td>\n",
       "      <td>2973.00</td>\n",
       "      <td>5.00</td>\n",
       "    </tr>\n",
       "    <tr>\n",
       "      <th>max</th>\n",
       "      <td>53424.00</td>\n",
       "      <td>10000.00</td>\n",
       "      <td>5.00</td>\n",
       "    </tr>\n",
       "  </tbody>\n",
       "</table>\n",
       "</div>"
      ],
      "text/plain": [
       "         user_id    book_id     rating\n",
       "count 5976479.00 5976479.00 5976479.00\n",
       "mean    26224.46    2006.48       3.92\n",
       "std     15413.23    2468.50       0.99\n",
       "min         1.00       1.00       1.00\n",
       "25%     12813.00     198.00       3.00\n",
       "50%     25938.00     885.00       4.00\n",
       "75%     39509.00    2973.00       5.00\n",
       "max     53424.00   10000.00       5.00"
      ]
     },
     "execution_count": 10,
     "metadata": {},
     "output_type": "execute_result"
    }
   ],
   "source": [
    "df_user_rating.describe()"
   ]
  },
  {
   "cell_type": "code",
   "execution_count": 7,
   "id": "14c1ff54",
   "metadata": {},
   "outputs": [
    {
     "data": {
      "text/plain": [
       "user_id    0\n",
       "book_id    0\n",
       "rating     0\n",
       "dtype: int64"
      ]
     },
     "execution_count": 7,
     "metadata": {},
     "output_type": "execute_result"
    }
   ],
   "source": [
    "df_user_rating.isna().sum()"
   ]
  },
  {
   "cell_type": "code",
   "execution_count": 8,
   "id": "28beaab7",
   "metadata": {},
   "outputs": [
    {
     "data": {
      "text/plain": [
       "0"
      ]
     },
     "execution_count": 8,
     "metadata": {},
     "output_type": "execute_result"
    }
   ],
   "source": [
    "df_user_rating.duplicated().sum()"
   ]
  },
  {
   "cell_type": "markdown",
   "id": "6f353822",
   "metadata": {},
   "source": [
    "# Setting up a first test run with surprise library"
   ]
  },
  {
   "cell_type": "code",
   "execution_count": 15,
   "id": "76e44296",
   "metadata": {},
   "outputs": [],
   "source": [
    "algorithm = surp.SVD()\n",
    "predictor = surp.NormalPredictor()\n",
    "reader = surp.Reader(rating_scale=(1,5)) #rating scale used in the user rating system"
   ]
  },
  {
   "cell_type": "code",
   "execution_count": 14,
   "id": "45a7666d",
   "metadata": {},
   "outputs": [],
   "source": [
    "df_data = surp.Dataset.load_from_df(df_user_rating[['user_id', 'book_id', 'rating']], reader)"
   ]
  },
  {
   "cell_type": "code",
   "execution_count": 21,
   "id": "5ae5a75f",
   "metadata": {
    "scrolled": true
   },
   "outputs": [
    {
     "name": "stdout",
     "output_type": "stream",
     "text": [
      "Evaluating RMSE, MAE of algorithm SVD on 5 split(s).\n",
      "\n",
      "                  Fold 1  Fold 2  Fold 3  Fold 4  Fold 5  Mean    Std     \n",
      "RMSE (testset)    0.8310  0.8306  0.8297  0.8299  0.8298  0.8302  0.0005  \n",
      "MAE (testset)     0.6413  0.6416  0.6405  0.6404  0.6408  0.6409  0.0005  \n",
      "Fit time          291.33  298.74  322.88  322.07  313.11  309.63  12.62   \n",
      "Test time         14.09   14.04   16.16   16.06   16.33   15.34   1.04    \n"
     ]
    },
    {
     "data": {
      "text/plain": [
       "{'test_rmse': array([0.8310344 , 0.83063825, 0.82974393, 0.82994681, 0.82981991]),\n",
       " 'test_mae': array([0.64132985, 0.64161196, 0.64047468, 0.64037496, 0.64079931]),\n",
       " 'fit_time': (291.3288609981537,\n",
       "  298.73945021629333,\n",
       "  322.88357400894165,\n",
       "  322.0701205730438,\n",
       "  313.11440348625183),\n",
       " 'test_time': (14.091964960098267,\n",
       "  14.042681694030762,\n",
       "  16.164698600769043,\n",
       "  16.059563875198364,\n",
       "  16.33480167388916)}"
      ]
     },
     "execution_count": 21,
     "metadata": {},
     "output_type": "execute_result"
    }
   ],
   "source": [
    "surp.model_selection.cross_validate(algorithm, df_data, measures=['RMSE', 'MAE'], cv=5, verbose=True)"
   ]
  },
  {
   "cell_type": "markdown",
   "id": "d3508c84",
   "metadata": {},
   "source": [
    "Okay that took some time. df_user_rating is too big to play around. Maybe cut is down a bit."
   ]
  },
  {
   "cell_type": "code",
   "execution_count": 22,
   "id": "6e28eba9",
   "metadata": {},
   "outputs": [
    {
     "data": {
      "text/html": [
       "<div>\n",
       "<style scoped>\n",
       "    .dataframe tbody tr th:only-of-type {\n",
       "        vertical-align: middle;\n",
       "    }\n",
       "\n",
       "    .dataframe tbody tr th {\n",
       "        vertical-align: top;\n",
       "    }\n",
       "\n",
       "    .dataframe thead th {\n",
       "        text-align: right;\n",
       "    }\n",
       "</style>\n",
       "<table border=\"1\" class=\"dataframe\">\n",
       "  <thead>\n",
       "    <tr style=\"text-align: right;\">\n",
       "      <th></th>\n",
       "      <th>user_id</th>\n",
       "      <th>number_of_rated_books</th>\n",
       "    </tr>\n",
       "  </thead>\n",
       "  <tbody>\n",
       "    <tr>\n",
       "      <th>count</th>\n",
       "      <td>53424.00</td>\n",
       "      <td>53424.00</td>\n",
       "    </tr>\n",
       "    <tr>\n",
       "      <th>mean</th>\n",
       "      <td>26712.50</td>\n",
       "      <td>111.87</td>\n",
       "    </tr>\n",
       "    <tr>\n",
       "      <th>std</th>\n",
       "      <td>15422.32</td>\n",
       "      <td>26.07</td>\n",
       "    </tr>\n",
       "    <tr>\n",
       "      <th>min</th>\n",
       "      <td>1.00</td>\n",
       "      <td>19.00</td>\n",
       "    </tr>\n",
       "    <tr>\n",
       "      <th>25%</th>\n",
       "      <td>13356.75</td>\n",
       "      <td>96.00</td>\n",
       "    </tr>\n",
       "    <tr>\n",
       "      <th>50%</th>\n",
       "      <td>26712.50</td>\n",
       "      <td>111.00</td>\n",
       "    </tr>\n",
       "    <tr>\n",
       "      <th>75%</th>\n",
       "      <td>40068.25</td>\n",
       "      <td>128.00</td>\n",
       "    </tr>\n",
       "    <tr>\n",
       "      <th>max</th>\n",
       "      <td>53424.00</td>\n",
       "      <td>200.00</td>\n",
       "    </tr>\n",
       "  </tbody>\n",
       "</table>\n",
       "</div>"
      ],
      "text/plain": [
       "       user_id  number_of_rated_books\n",
       "count 53424.00               53424.00\n",
       "mean  26712.50                 111.87\n",
       "std   15422.32                  26.07\n",
       "min       1.00                  19.00\n",
       "25%   13356.75                  96.00\n",
       "50%   26712.50                 111.00\n",
       "75%   40068.25                 128.00\n",
       "max   53424.00                 200.00"
      ]
     },
     "execution_count": 22,
     "metadata": {},
     "output_type": "execute_result"
    }
   ],
   "source": [
    "df_user_rating_groupby_user = (df_user_rating.groupby(['user_id'], as_index=False).agg(number_of_rated_books = ('rating', 'count')))\n",
    "df_user_rating_groupby_user.describe()"
   ]
  },
  {
   "cell_type": "markdown",
   "id": "554af3d2",
   "metadata": {},
   "source": [
    "Let's take the top 25 percent readers"
   ]
  },
  {
   "cell_type": "code",
   "execution_count": 31,
   "id": "aae7d3ae",
   "metadata": {},
   "outputs": [],
   "source": [
    "df_top25_reader = (df_user_rating_groupby_user.query('number_of_rated_books > 127')).copy()"
   ]
  },
  {
   "cell_type": "code",
   "execution_count": 37,
   "id": "d8855a59",
   "metadata": {},
   "outputs": [],
   "source": [
    "df_user_rating_top25 = (df_user_rating[df_user_rating['user_id'].isin((df_top25_reader.user_id).to_list())]).copy()"
   ]
  },
  {
   "cell_type": "code",
   "execution_count": 39,
   "id": "f1e4e131",
   "metadata": {},
   "outputs": [
    {
     "data": {
      "text/plain": [
       "(1967583, 3)"
      ]
     },
     "execution_count": 39,
     "metadata": {},
     "output_type": "execute_result"
    }
   ],
   "source": [
    "df_user_rating_top25.shape"
   ]
  },
  {
   "cell_type": "markdown",
   "id": "662a7dd8",
   "metadata": {},
   "source": [
    "### SVD testing"
   ]
  },
  {
   "cell_type": "code",
   "execution_count": 43,
   "id": "77d4e1d1",
   "metadata": {},
   "outputs": [],
   "source": [
    "df_data_top25 = surp.Dataset.load_from_df(df_user_rating_top25[['user_id', 'book_id', 'rating']], reader)"
   ]
  },
  {
   "cell_type": "code",
   "execution_count": 44,
   "id": "e9497318",
   "metadata": {},
   "outputs": [],
   "source": [
    "sim_options = {\n",
    "    \"name\": [\"msd\", \"cosine\", \"pearson\"],\n",
    "    \"min_support\": [3, 4, 5],\n",
    "    \"user_based\": [True],\n",
    "}"
   ]
  },
  {
   "cell_type": "code",
   "execution_count": 54,
   "id": "6a8be3bb",
   "metadata": {},
   "outputs": [],
   "source": [
    "param_grid = {\n",
    "    \"n_epochs\": [5, 10,20,30],\n",
    "    \"lr_all\": [0.002, 0.005, 0.0075, 0.01],\n",
    "    \"reg_all\": [0.2, 0.4, 0.6, 0.8]\n",
    "}"
   ]
  },
  {
   "cell_type": "code",
   "execution_count": 55,
   "id": "57ef7a34",
   "metadata": {},
   "outputs": [],
   "source": [
    "algorithm_svd = surp.SVD"
   ]
  },
  {
   "cell_type": "code",
   "execution_count": 56,
   "id": "7a54edf3",
   "metadata": {},
   "outputs": [],
   "source": [
    "gs = surp.model_selection.GridSearchCV(algorithm_svd, param_grid, measures=[\"rmse\", \"mae\"], cv=5)"
   ]
  },
  {
   "cell_type": "code",
   "execution_count": 57,
   "id": "a4726bf1",
   "metadata": {},
   "outputs": [],
   "source": [
    "gs.fit(df_data_top25)"
   ]
  },
  {
   "cell_type": "code",
   "execution_count": 58,
   "id": "231c7e41",
   "metadata": {},
   "outputs": [
    {
     "name": "stdout",
     "output_type": "stream",
     "text": [
      "0.8590683352429078\n",
      "0.6781513419964871\n"
     ]
    }
   ],
   "source": [
    "print(gs.best_score['rmse'])\n",
    "print(gs.best_score['mae'])"
   ]
  },
  {
   "cell_type": "code",
   "execution_count": 67,
   "id": "6e928852",
   "metadata": {},
   "outputs": [
    {
     "name": "stdout",
     "output_type": "stream",
     "text": [
      "{'n_epochs': 30, 'lr_all': 0.002, 'reg_all': 0.2}\n",
      "{'n_epochs': 30, 'lr_all': 0.005, 'reg_all': 0.2}\n"
     ]
    }
   ],
   "source": [
    "print(gs.best_params['rmse'])\n",
    "print(gs.best_params['mae'])"
   ]
  },
  {
   "cell_type": "markdown",
   "id": "061efb8d",
   "metadata": {},
   "source": [
    "#### Checking reg_all a second time"
   ]
  },
  {
   "cell_type": "code",
   "execution_count": 60,
   "id": "d86f8371",
   "metadata": {},
   "outputs": [],
   "source": [
    "param_grid_2 = {\n",
    "    \"n_epochs\": [30],\n",
    "    \"lr_all\": [0.002],\n",
    "    \"reg_all\": [0.02, 0.04, 0.06, 0.08]\n",
    "}"
   ]
  },
  {
   "cell_type": "code",
   "execution_count": 61,
   "id": "3a5f2ee7",
   "metadata": {},
   "outputs": [],
   "source": [
    "gs_2 = surp.model_selection.GridSearchCV(algorithm_svd, param_grid_2, measures=[\"rmse\", \"mae\"], cv=5)"
   ]
  },
  {
   "cell_type": "code",
   "execution_count": 62,
   "id": "c97e31d1",
   "metadata": {},
   "outputs": [],
   "source": [
    "gs_2.fit(df_data_top25)"
   ]
  },
  {
   "cell_type": "code",
   "execution_count": 63,
   "id": "123beb4f",
   "metadata": {
    "scrolled": true
   },
   "outputs": [
    {
     "name": "stdout",
     "output_type": "stream",
     "text": [
      "0.8466339602948917\n",
      "{'n_epochs': 30, 'lr_all': 0.002, 'reg_all': 0.02}\n"
     ]
    }
   ],
   "source": [
    "print(gs_2.best_score['rmse'])\n",
    "print(gs_2.best_params['rmse'])"
   ]
  },
  {
   "cell_type": "code",
   "execution_count": 69,
   "id": "2df0481a",
   "metadata": {},
   "outputs": [
    {
     "name": "stdout",
     "output_type": "stream",
     "text": [
      "0.6615379904386148\n",
      "{'n_epochs': 30, 'lr_all': 0.002, 'reg_all': 0.02}\n"
     ]
    }
   ],
   "source": [
    "print(gs_2.best_score['mae'])\n",
    "print(gs_2.best_params['mae'])"
   ]
  },
  {
   "cell_type": "markdown",
   "id": "8276b78f",
   "metadata": {},
   "source": [
    "### Third round testing"
   ]
  },
  {
   "cell_type": "code",
   "execution_count": 64,
   "id": "96f76e3f",
   "metadata": {},
   "outputs": [],
   "source": [
    "param_grid_3 = {\n",
    "    \"n_epochs\": [30],\n",
    "    \"lr_all\": [0.002],\n",
    "    \"reg_all\": [0.02, 0.1, 0.2, 0.3]\n",
    "}"
   ]
  },
  {
   "cell_type": "code",
   "execution_count": 65,
   "id": "994016a9",
   "metadata": {},
   "outputs": [],
   "source": [
    "gs_3 = surp.model_selection.GridSearchCV(algorithm_svd, param_grid_3, measures=[\"rmse\", \"mae\"], cv=5)"
   ]
  },
  {
   "cell_type": "code",
   "execution_count": 66,
   "id": "02da52c7",
   "metadata": {},
   "outputs": [],
   "source": [
    "gs_3.fit(df_data_top25)"
   ]
  },
  {
   "cell_type": "code",
   "execution_count": 117,
   "id": "711b3919",
   "metadata": {},
   "outputs": [
    {
     "name": "stdout",
     "output_type": "stream",
     "text": [
      "0.8464346100804292\n",
      "{'n_epochs': 30, 'lr_all': 0.002, 'reg_all': 0.02}\n"
     ]
    }
   ],
   "source": [
    "print(gs_3.best_score['rmse'])\n",
    "print(gs_3.best_params['rmse'])"
   ]
  },
  {
   "cell_type": "code",
   "execution_count": 118,
   "id": "213341f2",
   "metadata": {},
   "outputs": [
    {
     "name": "stdout",
     "output_type": "stream",
     "text": [
      "0.661307112272581\n",
      "{'n_epochs': 30, 'lr_all': 0.002, 'reg_all': 0.02}\n"
     ]
    }
   ],
   "source": [
    "print(gs_3.best_score['mae'])\n",
    "print(gs_3.best_params['mae'])"
   ]
  },
  {
   "cell_type": "markdown",
   "id": "a33014a4",
   "metadata": {},
   "source": [
    "## Introduce cleaner book list"
   ]
  },
  {
   "cell_type": "code",
   "execution_count": 102,
   "id": "9a431c4f",
   "metadata": {},
   "outputs": [],
   "source": [
    "df_cleaned_books = pd.read_csv('cleaned_books_stage_2.csv')"
   ]
  },
  {
   "cell_type": "code",
   "execution_count": 103,
   "id": "042cd6a3",
   "metadata": {},
   "outputs": [
    {
     "data": {
      "text/plain": [
       "8856"
      ]
     },
     "execution_count": 103,
     "metadata": {},
     "output_type": "execute_result"
    }
   ],
   "source": [
    "list_cleaned_books = df_cleaned_books['book_id'].to_list()\n",
    "len(list_cleaned_books)"
   ]
  },
  {
   "cell_type": "code",
   "execution_count": 104,
   "id": "862b4b2f",
   "metadata": {
    "scrolled": true
   },
   "outputs": [
    {
     "data": {
      "text/plain": [
       "5324722"
      ]
     },
     "execution_count": 104,
     "metadata": {},
     "output_type": "execute_result"
    }
   ],
   "source": [
    "(df_user_rating['book_id'].isin(list_cleaned_books)).sum()"
   ]
  },
  {
   "cell_type": "code",
   "execution_count": 105,
   "id": "e3e1cade",
   "metadata": {},
   "outputs": [],
   "source": [
    "df_user_rating_2 = (df_user_rating[df_user_rating['book_id'].isin(list_cleaned_books)]).copy()"
   ]
  },
  {
   "cell_type": "code",
   "execution_count": 107,
   "id": "6f1cc913",
   "metadata": {
    "scrolled": true
   },
   "outputs": [
    {
     "data": {
      "text/plain": [
       "(5324722, 3)"
      ]
     },
     "execution_count": 107,
     "metadata": {},
     "output_type": "execute_result"
    }
   ],
   "source": [
    "df_user_rating_2.shape"
   ]
  },
  {
   "cell_type": "code",
   "execution_count": 110,
   "id": "328a5d9e",
   "metadata": {
    "scrolled": true
   },
   "outputs": [
    {
     "data": {
      "text/html": [
       "<div>\n",
       "<style scoped>\n",
       "    .dataframe tbody tr th:only-of-type {\n",
       "        vertical-align: middle;\n",
       "    }\n",
       "\n",
       "    .dataframe tbody tr th {\n",
       "        vertical-align: top;\n",
       "    }\n",
       "\n",
       "    .dataframe thead th {\n",
       "        text-align: right;\n",
       "    }\n",
       "</style>\n",
       "<table border=\"1\" class=\"dataframe\">\n",
       "  <thead>\n",
       "    <tr style=\"text-align: right;\">\n",
       "      <th></th>\n",
       "      <th>user_id</th>\n",
       "      <th>book_id</th>\n",
       "      <th>rating</th>\n",
       "    </tr>\n",
       "  </thead>\n",
       "  <tbody>\n",
       "    <tr>\n",
       "      <th>count</th>\n",
       "      <td>5324722.00</td>\n",
       "      <td>5324722.00</td>\n",
       "      <td>5324722.00</td>\n",
       "    </tr>\n",
       "    <tr>\n",
       "      <th>mean</th>\n",
       "      <td>26184.86</td>\n",
       "      <td>2009.27</td>\n",
       "      <td>3.91</td>\n",
       "    </tr>\n",
       "    <tr>\n",
       "      <th>std</th>\n",
       "      <td>15421.87</td>\n",
       "      <td>2458.49</td>\n",
       "      <td>0.99</td>\n",
       "    </tr>\n",
       "    <tr>\n",
       "      <th>min</th>\n",
       "      <td>1.00</td>\n",
       "      <td>1.00</td>\n",
       "      <td>1.00</td>\n",
       "    </tr>\n",
       "    <tr>\n",
       "      <th>25%</th>\n",
       "      <td>12756.00</td>\n",
       "      <td>210.00</td>\n",
       "      <td>3.00</td>\n",
       "    </tr>\n",
       "    <tr>\n",
       "      <th>50%</th>\n",
       "      <td>25878.00</td>\n",
       "      <td>897.00</td>\n",
       "      <td>4.00</td>\n",
       "    </tr>\n",
       "    <tr>\n",
       "      <th>75%</th>\n",
       "      <td>39475.75</td>\n",
       "      <td>2974.00</td>\n",
       "      <td>5.00</td>\n",
       "    </tr>\n",
       "    <tr>\n",
       "      <th>max</th>\n",
       "      <td>53424.00</td>\n",
       "      <td>10000.00</td>\n",
       "      <td>5.00</td>\n",
       "    </tr>\n",
       "  </tbody>\n",
       "</table>\n",
       "</div>"
      ],
      "text/plain": [
       "         user_id    book_id     rating\n",
       "count 5324722.00 5324722.00 5324722.00\n",
       "mean    26184.86    2009.27       3.91\n",
       "std     15421.87    2458.49       0.99\n",
       "min         1.00       1.00       1.00\n",
       "25%     12756.00     210.00       3.00\n",
       "50%     25878.00     897.00       4.00\n",
       "75%     39475.75    2974.00       5.00\n",
       "max     53424.00   10000.00       5.00"
      ]
     },
     "execution_count": 110,
     "metadata": {},
     "output_type": "execute_result"
    }
   ],
   "source": [
    "df_user_rating_2.describe()"
   ]
  },
  {
   "cell_type": "code",
   "execution_count": 108,
   "id": "7a05abbb",
   "metadata": {},
   "outputs": [],
   "source": [
    "df_top2000_readers = ((df_user_rating_2.groupby(['user_id'], as_index=False).agg(number_of_rated_books = ('rating', 'count')))\n",
    "                      .sort_values(by='number_of_rated_books', ascending=False)\n",
    "                      .head(2000))\n",
    "df_user_rating_2_top2000 = (df_user_rating_2[df_user_rating_2['user_id'].isin((df_top2000_readers.user_id).to_list())]).copy()\n",
    "\n"
   ]
  },
  {
   "cell_type": "code",
   "execution_count": 109,
   "id": "da509777",
   "metadata": {},
   "outputs": [
    {
     "data": {
      "text/html": [
       "<div>\n",
       "<style scoped>\n",
       "    .dataframe tbody tr th:only-of-type {\n",
       "        vertical-align: middle;\n",
       "    }\n",
       "\n",
       "    .dataframe tbody tr th {\n",
       "        vertical-align: top;\n",
       "    }\n",
       "\n",
       "    .dataframe thead th {\n",
       "        text-align: right;\n",
       "    }\n",
       "</style>\n",
       "<table border=\"1\" class=\"dataframe\">\n",
       "  <thead>\n",
       "    <tr style=\"text-align: right;\">\n",
       "      <th></th>\n",
       "      <th>user_id</th>\n",
       "      <th>number_of_rated_books</th>\n",
       "    </tr>\n",
       "  </thead>\n",
       "  <tbody>\n",
       "    <tr>\n",
       "      <th>12873</th>\n",
       "      <td>12874</td>\n",
       "      <td>184</td>\n",
       "    </tr>\n",
       "    <tr>\n",
       "      <th>6341</th>\n",
       "      <td>6342</td>\n",
       "      <td>183</td>\n",
       "    </tr>\n",
       "    <tr>\n",
       "      <th>45553</th>\n",
       "      <td>45554</td>\n",
       "      <td>182</td>\n",
       "    </tr>\n",
       "    <tr>\n",
       "      <th>9245</th>\n",
       "      <td>9246</td>\n",
       "      <td>181</td>\n",
       "    </tr>\n",
       "    <tr>\n",
       "      <th>52035</th>\n",
       "      <td>52036</td>\n",
       "      <td>181</td>\n",
       "    </tr>\n",
       "    <tr>\n",
       "      <th>...</th>\n",
       "      <td>...</td>\n",
       "      <td>...</td>\n",
       "    </tr>\n",
       "    <tr>\n",
       "      <th>49585</th>\n",
       "      <td>49586</td>\n",
       "      <td>144</td>\n",
       "    </tr>\n",
       "    <tr>\n",
       "      <th>45856</th>\n",
       "      <td>45857</td>\n",
       "      <td>144</td>\n",
       "    </tr>\n",
       "    <tr>\n",
       "      <th>45805</th>\n",
       "      <td>45806</td>\n",
       "      <td>144</td>\n",
       "    </tr>\n",
       "    <tr>\n",
       "      <th>35616</th>\n",
       "      <td>35617</td>\n",
       "      <td>144</td>\n",
       "    </tr>\n",
       "    <tr>\n",
       "      <th>40826</th>\n",
       "      <td>40827</td>\n",
       "      <td>144</td>\n",
       "    </tr>\n",
       "  </tbody>\n",
       "</table>\n",
       "<p>2000 rows × 2 columns</p>\n",
       "</div>"
      ],
      "text/plain": [
       "       user_id  number_of_rated_books\n",
       "12873    12874                    184\n",
       "6341      6342                    183\n",
       "45553    45554                    182\n",
       "9245      9246                    181\n",
       "52035    52036                    181\n",
       "...        ...                    ...\n",
       "49585    49586                    144\n",
       "45856    45857                    144\n",
       "45805    45806                    144\n",
       "35616    35617                    144\n",
       "40826    40827                    144\n",
       "\n",
       "[2000 rows x 2 columns]"
      ]
     },
     "execution_count": 109,
     "metadata": {},
     "output_type": "execute_result"
    }
   ],
   "source": [
    "df_top2000_readers"
   ]
  },
  {
   "cell_type": "code",
   "execution_count": 114,
   "id": "2ebe66b1",
   "metadata": {},
   "outputs": [
    {
     "data": {
      "text/plain": [
       "(308831, 3)"
      ]
     },
     "execution_count": 114,
     "metadata": {},
     "output_type": "execute_result"
    }
   ],
   "source": [
    "df_user_rating_2_top2000.shape"
   ]
  },
  {
   "cell_type": "code",
   "execution_count": 132,
   "id": "96bb3cf1",
   "metadata": {},
   "outputs": [],
   "source": [
    "df_user_rating_2.to_csv('user_rating_top2k_2', compression='zip')"
   ]
  },
  {
   "cell_type": "code",
   "execution_count": 116,
   "id": "6e49d16b",
   "metadata": {},
   "outputs": [],
   "source": [
    "df_top2000_users_clean = surp.Dataset.load_from_df(df_user_rating_top25[['user_id', 'book_id', 'rating']], reader)"
   ]
  },
  {
   "cell_type": "markdown",
   "id": "a4b53a8e",
   "metadata": {},
   "source": [
    "### Train with algorithm"
   ]
  },
  {
   "cell_type": "code",
   "execution_count": 121,
   "id": "98ae947f",
   "metadata": {},
   "outputs": [],
   "source": [
    "algo_trained = gs_2.best_estimator['rmse']"
   ]
  },
  {
   "cell_type": "code",
   "execution_count": 122,
   "id": "cc151798",
   "metadata": {},
   "outputs": [],
   "source": [
    "train_set = df_top2000_users_clean.build_full_trainset()"
   ]
  },
  {
   "cell_type": "code",
   "execution_count": 123,
   "id": "8e4814af",
   "metadata": {},
   "outputs": [
    {
     "data": {
      "text/plain": [
       "<surprise.prediction_algorithms.matrix_factorization.SVD at 0x21b437eedc0>"
      ]
     },
     "execution_count": 123,
     "metadata": {},
     "output_type": "execute_result"
    }
   ],
   "source": [
    "algo_trained.fit(train_set)"
   ]
  },
  {
   "cell_type": "code",
   "execution_count": 124,
   "id": "fea7fb18",
   "metadata": {},
   "outputs": [],
   "source": [
    "test_set = train_set.build_testset()"
   ]
  },
  {
   "cell_type": "code",
   "execution_count": 125,
   "id": "4fd58146",
   "metadata": {},
   "outputs": [],
   "source": [
    "predictions = algo_trained.test(test_set)"
   ]
  },
  {
   "cell_type": "code",
   "execution_count": 126,
   "id": "3f4bbe5b",
   "metadata": {
    "scrolled": true
   },
   "outputs": [
    {
     "name": "stdout",
     "output_type": "stream",
     "text": [
      "RMSE: 0.7428\n"
     ]
    },
    {
     "data": {
      "text/plain": [
       "0.742829017217168"
      ]
     },
     "execution_count": 126,
     "metadata": {},
     "output_type": "execute_result"
    }
   ],
   "source": [
    "surp.accuracy.rmse(predictions, verbose=True)"
   ]
  },
  {
   "cell_type": "code",
   "execution_count": 129,
   "id": "cb18431b",
   "metadata": {},
   "outputs": [],
   "source": [
    "def get_top_n(predictions, n=20):\n",
    "    \"\"\"Return the top-N recommendation for each user from a set of predictions.\n",
    "\n",
    "    Args:\n",
    "        predictions(list of Prediction objects): The list of predictions, as\n",
    "            returned by the test method of an algorithm.\n",
    "        n(int): The number of recommendation to output for each user. Default\n",
    "            is 10.\n",
    "\n",
    "    Returns:\n",
    "    A dict where keys are user (raw) ids and values are lists of tuples:\n",
    "        [(raw item id, rating estimation), ...] of size n.\n",
    "    \"\"\"\n",
    "\n",
    "    # First map the predictions to each user.\n",
    "    top_n = defaultdict(list)\n",
    "    for uid, iid, true_r, est, _ in predictions:\n",
    "        top_n[uid].append((iid, est))\n",
    "\n",
    "    # Then sort the predictions for each user and retrieve the k highest ones.\n",
    "    for uid, user_ratings in top_n.items():\n",
    "        user_ratings.sort(key=lambda x: x[1], reverse=True)\n",
    "        top_n[uid] = user_ratings[:n]\n",
    "\n",
    "    return top_n\n"
   ]
  },
  {
   "cell_type": "code",
   "execution_count": 130,
   "id": "7cee9497",
   "metadata": {},
   "outputs": [
    {
     "ename": "KeyboardInterrupt",
     "evalue": "",
     "output_type": "error",
     "traceback": [
      "\u001b[1;31m---------------------------------------------------------------------------\u001b[0m",
      "\u001b[1;31mKeyboardInterrupt\u001b[0m                         Traceback (most recent call last)",
      "Input \u001b[1;32mIn [130]\u001b[0m, in \u001b[0;36m<cell line: 2>\u001b[1;34m()\u001b[0m\n\u001b[0;32m      1\u001b[0m test_set_real \u001b[38;5;241m=\u001b[39m train_set\u001b[38;5;241m.\u001b[39mbuild_anti_testset()\n\u001b[1;32m----> 2\u001b[0m predictions_real \u001b[38;5;241m=\u001b[39m \u001b[43malgo_trained\u001b[49m\u001b[38;5;241;43m.\u001b[39;49m\u001b[43mtest\u001b[49m\u001b[43m(\u001b[49m\u001b[43mtest_set_real\u001b[49m\u001b[43m)\u001b[49m\n",
      "File \u001b[1;32mH:\\Anaconda3\\lib\\site-packages\\surprise\\prediction_algorithms\\algo_base.py:164\u001b[0m, in \u001b[0;36mAlgoBase.test\u001b[1;34m(self, testset, verbose)\u001b[0m\n\u001b[0;32m    146\u001b[0m \u001b[38;5;124;03m\"\"\"Test the algorithm on given testset, i.e. estimate all the ratings\u001b[39;00m\n\u001b[0;32m    147\u001b[0m \u001b[38;5;124;03min the given testset.\u001b[39;00m\n\u001b[0;32m    148\u001b[0m \n\u001b[1;32m   (...)\u001b[0m\n\u001b[0;32m    160\u001b[0m \u001b[38;5;124;03m    that contains all the estimated ratings.\u001b[39;00m\n\u001b[0;32m    161\u001b[0m \u001b[38;5;124;03m\"\"\"\u001b[39;00m\n\u001b[0;32m    163\u001b[0m \u001b[38;5;66;03m# The ratings are translated back to their original scale.\u001b[39;00m\n\u001b[1;32m--> 164\u001b[0m predictions \u001b[38;5;241m=\u001b[39m [\u001b[38;5;28mself\u001b[39m\u001b[38;5;241m.\u001b[39mpredict(uid,\n\u001b[0;32m    165\u001b[0m                             iid,\n\u001b[0;32m    166\u001b[0m                             r_ui_trans,\n\u001b[0;32m    167\u001b[0m                             verbose\u001b[38;5;241m=\u001b[39mverbose)\n\u001b[0;32m    168\u001b[0m                \u001b[38;5;28;01mfor\u001b[39;00m (uid, iid, r_ui_trans) \u001b[38;5;129;01min\u001b[39;00m testset]\n\u001b[0;32m    169\u001b[0m \u001b[38;5;28;01mreturn\u001b[39;00m predictions\n",
      "File \u001b[1;32mH:\\Anaconda3\\lib\\site-packages\\surprise\\prediction_algorithms\\algo_base.py:164\u001b[0m, in \u001b[0;36m<listcomp>\u001b[1;34m(.0)\u001b[0m\n\u001b[0;32m    146\u001b[0m \u001b[38;5;124;03m\"\"\"Test the algorithm on given testset, i.e. estimate all the ratings\u001b[39;00m\n\u001b[0;32m    147\u001b[0m \u001b[38;5;124;03min the given testset.\u001b[39;00m\n\u001b[0;32m    148\u001b[0m \n\u001b[1;32m   (...)\u001b[0m\n\u001b[0;32m    160\u001b[0m \u001b[38;5;124;03m    that contains all the estimated ratings.\u001b[39;00m\n\u001b[0;32m    161\u001b[0m \u001b[38;5;124;03m\"\"\"\u001b[39;00m\n\u001b[0;32m    163\u001b[0m \u001b[38;5;66;03m# The ratings are translated back to their original scale.\u001b[39;00m\n\u001b[1;32m--> 164\u001b[0m predictions \u001b[38;5;241m=\u001b[39m [\u001b[38;5;28;43mself\u001b[39;49m\u001b[38;5;241;43m.\u001b[39;49m\u001b[43mpredict\u001b[49m\u001b[43m(\u001b[49m\u001b[43muid\u001b[49m\u001b[43m,\u001b[49m\n\u001b[0;32m    165\u001b[0m \u001b[43m                            \u001b[49m\u001b[43miid\u001b[49m\u001b[43m,\u001b[49m\n\u001b[0;32m    166\u001b[0m \u001b[43m                            \u001b[49m\u001b[43mr_ui_trans\u001b[49m\u001b[43m,\u001b[49m\n\u001b[0;32m    167\u001b[0m \u001b[43m                            \u001b[49m\u001b[43mverbose\u001b[49m\u001b[38;5;241;43m=\u001b[39;49m\u001b[43mverbose\u001b[49m\u001b[43m)\u001b[49m\n\u001b[0;32m    168\u001b[0m                \u001b[38;5;28;01mfor\u001b[39;00m (uid, iid, r_ui_trans) \u001b[38;5;129;01min\u001b[39;00m testset]\n\u001b[0;32m    169\u001b[0m \u001b[38;5;28;01mreturn\u001b[39;00m predictions\n",
      "File \u001b[1;32mH:\\Anaconda3\\lib\\site-packages\\surprise\\prediction_algorithms\\algo_base.py:106\u001b[0m, in \u001b[0;36mAlgoBase.predict\u001b[1;34m(self, uid, iid, r_ui, clip, verbose)\u001b[0m\n\u001b[0;32m    104\u001b[0m details \u001b[38;5;241m=\u001b[39m {}\n\u001b[0;32m    105\u001b[0m \u001b[38;5;28;01mtry\u001b[39;00m:\n\u001b[1;32m--> 106\u001b[0m     est \u001b[38;5;241m=\u001b[39m \u001b[38;5;28;43mself\u001b[39;49m\u001b[38;5;241;43m.\u001b[39;49m\u001b[43mestimate\u001b[49m\u001b[43m(\u001b[49m\u001b[43miuid\u001b[49m\u001b[43m,\u001b[49m\u001b[43m \u001b[49m\u001b[43miiid\u001b[49m\u001b[43m)\u001b[49m\n\u001b[0;32m    108\u001b[0m     \u001b[38;5;66;03m# If the details dict was also returned\u001b[39;00m\n\u001b[0;32m    109\u001b[0m     \u001b[38;5;28;01mif\u001b[39;00m \u001b[38;5;28misinstance\u001b[39m(est, \u001b[38;5;28mtuple\u001b[39m):\n",
      "File \u001b[1;32mH:\\Anaconda3\\lib\\site-packages\\surprise\\prediction_algorithms\\matrix_factorization.pyx:272\u001b[0m, in \u001b[0;36msurprise.prediction_algorithms.matrix_factorization.SVD.estimate\u001b[1;34m()\u001b[0m\n",
      "File \u001b[1;32m<__array_function__ internals>:5\u001b[0m, in \u001b[0;36mdot\u001b[1;34m(*args, **kwargs)\u001b[0m\n",
      "\u001b[1;31mKeyboardInterrupt\u001b[0m: "
     ]
    }
   ],
   "source": [
    "test_set_real = train_set.build_anti_testset()\n",
    "predictions_real = algo_trained.test(test_set_real)"
   ]
  },
  {
   "cell_type": "code",
   "execution_count": null,
   "id": "a8b91062",
   "metadata": {},
   "outputs": [],
   "source": [
    "top_20 = get"
   ]
  },
  {
   "cell_type": "code",
   "execution_count": null,
   "id": "f8d91780",
   "metadata": {},
   "outputs": [],
   "source": []
  }
 ],
 "metadata": {
  "kernelspec": {
   "display_name": "Python 3 (ipykernel)",
   "language": "python",
   "name": "python3"
  },
  "language_info": {
   "codemirror_mode": {
    "name": "ipython",
    "version": 3
   },
   "file_extension": ".py",
   "mimetype": "text/x-python",
   "name": "python",
   "nbconvert_exporter": "python",
   "pygments_lexer": "ipython3",
   "version": "3.9.12"
  }
 },
 "nbformat": 4,
 "nbformat_minor": 5
}
